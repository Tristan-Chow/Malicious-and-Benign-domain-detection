{
 "cells": [
  {
   "cell_type": "code",
   "execution_count": 1,
   "metadata": {},
   "outputs": [
    {
     "data": {
      "text/html": [
       "<div>\n",
       "<style scoped>\n",
       "    .dataframe tbody tr th:only-of-type {\n",
       "        vertical-align: middle;\n",
       "    }\n",
       "\n",
       "    .dataframe tbody tr th {\n",
       "        vertical-align: top;\n",
       "    }\n",
       "\n",
       "    .dataframe thead th {\n",
       "        text-align: right;\n",
       "    }\n",
       "</style>\n",
       "<table border=\"1\" class=\"dataframe\">\n",
       "  <thead>\n",
       "    <tr style=\"text-align: right;\">\n",
       "      <th></th>\n",
       "      <th>domain</th>\n",
       "      <th>domain_type</th>\n",
       "    </tr>\n",
       "  </thead>\n",
       "  <tbody>\n",
       "    <tr>\n",
       "      <th>0</th>\n",
       "      <td>wisuolycossttqrj.com</td>\n",
       "      <td>dga</td>\n",
       "    </tr>\n",
       "    <tr>\n",
       "      <th>1</th>\n",
       "      <td>wi-wamss.org</td>\n",
       "      <td>benign</td>\n",
       "    </tr>\n",
       "    <tr>\n",
       "      <th>2</th>\n",
       "      <td>qcxfurnkbqidxxcl.biz</td>\n",
       "      <td>dga</td>\n",
       "    </tr>\n",
       "    <tr>\n",
       "      <th>3</th>\n",
       "      <td>192-168-1-1-admin.ru</td>\n",
       "      <td>benign</td>\n",
       "    </tr>\n",
       "    <tr>\n",
       "      <th>4</th>\n",
       "      <td>dblsiobnkjxomkmh.ru</td>\n",
       "      <td>dga</td>\n",
       "    </tr>\n",
       "  </tbody>\n",
       "</table>\n",
       "</div>"
      ],
      "text/plain": [
       "                 domain domain_type\n",
       "0  wisuolycossttqrj.com         dga\n",
       "1          wi-wamss.org      benign\n",
       "2  qcxfurnkbqidxxcl.biz         dga\n",
       "3  192-168-1-1-admin.ru      benign\n",
       "4   dblsiobnkjxomkmh.ru         dga"
      ]
     },
     "execution_count": 1,
     "metadata": {},
     "output_type": "execute_result"
    }
   ],
   "source": [
    "import pandas as pd\n",
    "import numpy as np\n",
    "domain_df = pd.read_csv(\"../../data/initial_data.csv\")\n",
    "expanded_df = pd.read_csv(\"../../data/expanded_data.csv\")\n",
    "df = pd.concat([domain_df,expanded_df])\n",
    "df.drop_duplicates(inplace=True)\n",
    "df.head()"
   ]
  },
  {
   "cell_type": "code",
   "execution_count": 2,
   "metadata": {},
   "outputs": [],
   "source": [
    "df['domain_type'] = pd.Categorical(df['domain_type'])"
   ]
  },
  {
   "cell_type": "code",
   "execution_count": 3,
   "metadata": {},
   "outputs": [
    {
     "data": {
      "text/html": [
       "<div>\n",
       "<style scoped>\n",
       "    .dataframe tbody tr th:only-of-type {\n",
       "        vertical-align: middle;\n",
       "    }\n",
       "\n",
       "    .dataframe tbody tr th {\n",
       "        vertical-align: top;\n",
       "    }\n",
       "\n",
       "    .dataframe thead th {\n",
       "        text-align: right;\n",
       "    }\n",
       "</style>\n",
       "<table border=\"1\" class=\"dataframe\">\n",
       "  <thead>\n",
       "    <tr style=\"text-align: right;\">\n",
       "      <th></th>\n",
       "      <th>domain</th>\n",
       "      <th>domain_type</th>\n",
       "    </tr>\n",
       "  </thead>\n",
       "  <tbody>\n",
       "    <tr>\n",
       "      <th>0</th>\n",
       "      <td>wisuolycossttqrj.com</td>\n",
       "      <td>1</td>\n",
       "    </tr>\n",
       "    <tr>\n",
       "      <th>1</th>\n",
       "      <td>wi-wamss.org</td>\n",
       "      <td>0</td>\n",
       "    </tr>\n",
       "    <tr>\n",
       "      <th>2</th>\n",
       "      <td>qcxfurnkbqidxxcl.biz</td>\n",
       "      <td>1</td>\n",
       "    </tr>\n",
       "    <tr>\n",
       "      <th>3</th>\n",
       "      <td>192-168-1-1-admin.ru</td>\n",
       "      <td>0</td>\n",
       "    </tr>\n",
       "    <tr>\n",
       "      <th>4</th>\n",
       "      <td>dblsiobnkjxomkmh.ru</td>\n",
       "      <td>1</td>\n",
       "    </tr>\n",
       "  </tbody>\n",
       "</table>\n",
       "</div>"
      ],
      "text/plain": [
       "                 domain  domain_type\n",
       "0  wisuolycossttqrj.com            1\n",
       "1          wi-wamss.org            0\n",
       "2  qcxfurnkbqidxxcl.biz            1\n",
       "3  192-168-1-1-admin.ru            0\n",
       "4   dblsiobnkjxomkmh.ru            1"
      ]
     },
     "execution_count": 3,
     "metadata": {},
     "output_type": "execute_result"
    }
   ],
   "source": [
    "df['domain_type'] = df.domain_type.cat.codes\n",
    "df.head()"
   ]
  },
  {
   "cell_type": "code",
   "execution_count": 4,
   "metadata": {},
   "outputs": [
    {
     "data": {
      "text/html": [
       "<div>\n",
       "<style scoped>\n",
       "    .dataframe tbody tr th:only-of-type {\n",
       "        vertical-align: middle;\n",
       "    }\n",
       "\n",
       "    .dataframe tbody tr th {\n",
       "        vertical-align: top;\n",
       "    }\n",
       "\n",
       "    .dataframe thead th {\n",
       "        text-align: right;\n",
       "    }\n",
       "</style>\n",
       "<table border=\"1\" class=\"dataframe\">\n",
       "  <thead>\n",
       "    <tr style=\"text-align: right;\">\n",
       "      <th></th>\n",
       "      <th>domain</th>\n",
       "      <th>domain_type</th>\n",
       "    </tr>\n",
       "  </thead>\n",
       "  <tbody>\n",
       "    <tr>\n",
       "      <th>0</th>\n",
       "      <td>wisuolycossttqrj</td>\n",
       "      <td>1</td>\n",
       "    </tr>\n",
       "    <tr>\n",
       "      <th>1</th>\n",
       "      <td>wi-wamss</td>\n",
       "      <td>0</td>\n",
       "    </tr>\n",
       "    <tr>\n",
       "      <th>2</th>\n",
       "      <td>qcxfurnkbqidxxcl</td>\n",
       "      <td>1</td>\n",
       "    </tr>\n",
       "    <tr>\n",
       "      <th>3</th>\n",
       "      <td>192-168-1-1-admin</td>\n",
       "      <td>0</td>\n",
       "    </tr>\n",
       "    <tr>\n",
       "      <th>4</th>\n",
       "      <td>dblsiobnkjxomkmh</td>\n",
       "      <td>1</td>\n",
       "    </tr>\n",
       "  </tbody>\n",
       "</table>\n",
       "</div>"
      ],
      "text/plain": [
       "              domain  domain_type\n",
       "0   wisuolycossttqrj            1\n",
       "1           wi-wamss            0\n",
       "2   qcxfurnkbqidxxcl            1\n",
       "3  192-168-1-1-admin            0\n",
       "4   dblsiobnkjxomkmh            1"
      ]
     },
     "execution_count": 4,
     "metadata": {},
     "output_type": "execute_result"
    }
   ],
   "source": [
    "import tldextract\n",
    "def transform(val):\n",
    "    return tldextract.extract(val).domain\n",
    "df['domain']= df['domain'].apply(transform)\n",
    "df.head()"
   ]
  },
  {
   "cell_type": "code",
   "execution_count": 5,
   "metadata": {},
   "outputs": [],
   "source": [
    "target = df.pop('domain_type')\n",
    "dataset = df['domain']"
   ]
  },
  {
   "cell_type": "code",
   "execution_count": 9,
   "metadata": {},
   "outputs": [],
   "source": [
    "from tensorflow.keras.preprocessing import sequence\n",
    "valid_chars = {x:idx+1 for idx, x in enumerate(set(''.join(dataset)))}\n",
    "max_features = len(valid_chars) + 1\n",
    "maxlen = np.max([len(x) for x in dataset])\n",
    "\n",
    "# Convert characters to int and pad\n",
    "X = [[valid_chars[y] for y in x] for x in dataset]\n",
    "X = sequence.pad_sequences(X, maxlen=maxlen)\n",
    "y = target"
   ]
  },
  {
   "cell_type": "code",
   "execution_count": 12,
   "metadata": {},
   "outputs": [],
   "source": [
    "from sklearn.model_selection import train_test_split\n",
    "X_train, X_test, y_train, y_test = train_test_split(X, y, test_size=0.3, random_state=42)"
   ]
  },
  {
   "cell_type": "code",
   "execution_count": 13,
   "metadata": {},
   "outputs": [],
   "source": [
    "import tensorflow as tf\n",
    "trainset = tf.data.Dataset.from_tensor_slices((X_train, y_train.values)).shuffle(len(X_train)).batch(128)"
   ]
  },
  {
   "cell_type": "code",
   "execution_count": 31,
   "metadata": {},
   "outputs": [
    {
     "name": "stdout",
     "output_type": "stream",
     "text": [
      "Train for 434 steps, validate for 186 steps\n",
      "Epoch 1/15\n",
      "434/434 [==============================] - 225s 519ms/step - loss: 0.2752 - accuracy: 0.8825 - recall_2: 0.8449 - val_loss: 0.2050 - val_accuracy: 0.9176 - val_recall_2: 0.8998\n",
      "Epoch 2/15\n",
      "434/434 [==============================] - 219s 504ms/step - loss: 0.1963 - accuracy: 0.9206 - recall_2: 0.9068 - val_loss: 0.1820 - val_accuracy: 0.9263 - val_recall_2: 0.9170\n",
      "Epoch 3/15\n",
      "434/434 [==============================] - 199s 459ms/step - loss: 0.1744 - accuracy: 0.9303 - recall_2: 0.9168 - val_loss: 0.1632 - val_accuracy: 0.9369 - val_recall_2: 0.9179\n",
      "Epoch 4/15\n",
      "434/434 [==============================] - 200s 461ms/step - loss: 0.1535 - accuracy: 0.9373 - recall_2: 0.9229 - val_loss: 0.1450 - val_accuracy: 0.9417 - val_recall_2: 0.9405\n",
      "Epoch 5/15\n",
      "434/434 [==============================] - 198s 456ms/step - loss: 0.1372 - accuracy: 0.9444 - recall_2: 0.9318 - val_loss: 0.1326 - val_accuracy: 0.9464 - val_recall_2: 0.9222\n",
      "Epoch 6/15\n",
      "434/434 [==============================] - 197s 454ms/step - loss: 0.1269 - accuracy: 0.9490 - recall_2: 0.9377 - val_loss: 0.1262 - val_accuracy: 0.9498 - val_recall_2: 0.9465\n",
      "Epoch 7/15\n",
      "434/434 [==============================] - 205s 473ms/step - loss: 0.1194 - accuracy: 0.9526 - recall_2: 0.9431 - val_loss: 0.1230 - val_accuracy: 0.9520 - val_recall_2: 0.9330\n",
      "Epoch 8/15\n",
      "434/434 [==============================] - 205s 472ms/step - loss: 0.1136 - accuracy: 0.9546 - recall_2: 0.9462 - val_loss: 0.1189 - val_accuracy: 0.9551 - val_recall_2: 0.9398\n",
      "Epoch 9/15\n",
      "434/434 [==============================] - 215s 495ms/step - loss: 0.1076 - accuracy: 0.9572 - recall_2: 0.9487 - val_loss: 0.1136 - val_accuracy: 0.9555 - val_recall_2: 0.9494\n",
      "Epoch 10/15\n",
      "434/434 [==============================] - 228s 526ms/step - loss: 0.1017 - accuracy: 0.9605 - recall_2: 0.9525 - val_loss: 0.1113 - val_accuracy: 0.9571 - val_recall_2: 0.9532\n",
      "Epoch 11/15\n",
      "434/434 [==============================] - 223s 513ms/step - loss: 0.0975 - accuracy: 0.9625 - recall_2: 0.9545 - val_loss: 0.1093 - val_accuracy: 0.9570 - val_recall_2: 0.9558\n"
     ]
    },
    {
     "data": {
      "text/plain": [
       "<tensorflow.python.keras.callbacks.History at 0x6a24d2e0b8>"
      ]
     },
     "execution_count": 31,
     "metadata": {},
     "output_type": "execute_result"
    }
   ],
   "source": [
    "def get_compiled_model():\n",
    "    main_input = tf.keras.Input(shape=(50, ), dtype='int32', name='main_input')\n",
    "    embedding = tf.keras.layers.Embedding(input_dim=128, output_dim=128,input_length=50)(main_input)\n",
    "    bi_lstm = tf.keras.layers.Bidirectional(layer=tf.keras.layers.LSTM(64,return_sequences=False),merge_mode='concat')(embedding)\n",
    "    output = tf.keras.layers.Dense(1, activation='sigmoid')(bi_lstm)\n",
    "    model = tf.keras.Model(inputs=main_input, outputs=output)\n",
    "    model.compile(loss='binary_crossentropy', optimizer='adam', metrics=['accuracy', tf.keras.metrics.Recall()])\n",
    "    return model\n",
    "\n",
    "earlystop_callback = tf.keras.callbacks.EarlyStopping(monitor='val_accuracy', min_delta=0.0001, patience=1)\n",
    "\n",
    "model = get_compiled_model()\n",
    "model.fit(trainset, epochs=15, callbacks=[earlystop_callback], validation_data=testset, validation_freq=1)"
   ]
  },
  {
   "cell_type": "code",
   "execution_count": 16,
   "metadata": {},
   "outputs": [],
   "source": [
    "testset = tf.data.Dataset.from_tensor_slices((X_test, y_test.values)).batch(128)"
   ]
  },
  {
   "cell_type": "code",
   "execution_count": 17,
   "metadata": {},
   "outputs": [
    {
     "name": "stdout",
     "output_type": "stream",
     "text": [
      "186/186 [==============================] - 15s 79ms/step - loss: 0.1198 - accuracy: 0.9624 - recall_1: 0.9530\n"
     ]
    },
    {
     "data": {
      "text/plain": [
       "[0.11977213353759819, 0.9623744, 0.9529618]"
      ]
     },
     "execution_count": 17,
     "metadata": {},
     "output_type": "execute_result"
    }
   ],
   "source": [
    "model.evaluate(testset)"
   ]
  },
  {
   "cell_type": "code",
   "execution_count": 21,
   "metadata": {},
   "outputs": [],
   "source": [
    "import pandas as pd\n",
    "import numpy as np\n",
    "test_df = pd.read_csv(\"../../data/feedback.csv\")"
   ]
  },
  {
   "cell_type": "code",
   "execution_count": 22,
   "metadata": {},
   "outputs": [
    {
     "data": {
      "text/plain": [
       "Index(['domain', ' submitted', ' correct'], dtype='object')"
      ]
     },
     "execution_count": 22,
     "metadata": {},
     "output_type": "execute_result"
    }
   ],
   "source": [
    "test_df.columns"
   ]
  },
  {
   "cell_type": "code",
   "execution_count": 23,
   "metadata": {},
   "outputs": [
    {
     "data": {
      "text/html": [
       "<div>\n",
       "<style scoped>\n",
       "    .dataframe tbody tr th:only-of-type {\n",
       "        vertical-align: middle;\n",
       "    }\n",
       "\n",
       "    .dataframe tbody tr th {\n",
       "        vertical-align: top;\n",
       "    }\n",
       "\n",
       "    .dataframe thead th {\n",
       "        text-align: right;\n",
       "    }\n",
       "</style>\n",
       "<table border=\"1\" class=\"dataframe\">\n",
       "  <thead>\n",
       "    <tr style=\"text-align: right;\">\n",
       "      <th></th>\n",
       "      <th>domain</th>\n",
       "      <th>submitted</th>\n",
       "      <th>correct</th>\n",
       "    </tr>\n",
       "  </thead>\n",
       "  <tbody>\n",
       "    <tr>\n",
       "      <th>0</th>\n",
       "      <td>cfsjdqwdhmwkiv</td>\n",
       "      <td>benign</td>\n",
       "      <td>1</td>\n",
       "    </tr>\n",
       "    <tr>\n",
       "      <th>1</th>\n",
       "      <td>uocoqgiusyeciouaimcauykqswsymo</td>\n",
       "      <td>benign</td>\n",
       "      <td>1</td>\n",
       "    </tr>\n",
       "    <tr>\n",
       "      <th>2</th>\n",
       "      <td>okdbnxoauhzrawyu</td>\n",
       "      <td>benign</td>\n",
       "      <td>1</td>\n",
       "    </tr>\n",
       "    <tr>\n",
       "      <th>3</th>\n",
       "      <td>m8sdetc0u81lgdcpshoxsvy</td>\n",
       "      <td>benign</td>\n",
       "      <td>1</td>\n",
       "    </tr>\n",
       "    <tr>\n",
       "      <th>4</th>\n",
       "      <td>qkdccn</td>\n",
       "      <td>benign</td>\n",
       "      <td>1</td>\n",
       "    </tr>\n",
       "  </tbody>\n",
       "</table>\n",
       "</div>"
      ],
      "text/plain": [
       "                           domain  submitted   correct\n",
       "0                  cfsjdqwdhmwkiv     benign         1\n",
       "1  uocoqgiusyeciouaimcauykqswsymo     benign         1\n",
       "2                okdbnxoauhzrawyu     benign         1\n",
       "3         m8sdetc0u81lgdcpshoxsvy     benign         1\n",
       "4                          qkdccn     benign         1"
      ]
     },
     "execution_count": 23,
     "metadata": {},
     "output_type": "execute_result"
    }
   ],
   "source": [
    "test_df[' correct'] = pd.Categorical(test_df[' correct'])\n",
    "test_df[' correct'] = test_df[' correct'].cat.codes\n",
    "test_df.head()"
   ]
  },
  {
   "cell_type": "code",
   "execution_count": 24,
   "metadata": {},
   "outputs": [],
   "source": [
    "real_target = test_df.pop(' correct')\n",
    "real_dataset = test_df['domain']"
   ]
  },
  {
   "cell_type": "code",
   "execution_count": 25,
   "metadata": {},
   "outputs": [],
   "source": [
    "real_X = [[valid_chars[y] for y in x] for x in real_dataset]\n",
    "real_X = sequence.pad_sequences(real_X, maxlen=maxlen)\n",
    "real_y = real_target"
   ]
  },
  {
   "cell_type": "code",
   "execution_count": 26,
   "metadata": {},
   "outputs": [],
   "source": [
    "realset = tf.data.Dataset.from_tensor_slices((real_X, real_y.values)).batch(128)"
   ]
  },
  {
   "cell_type": "code",
   "execution_count": 32,
   "metadata": {},
   "outputs": [
    {
     "name": "stdout",
     "output_type": "stream",
     "text": [
      "2/2 [==============================] - 0s 171ms/step - loss: 0.5735 - accuracy: 0.7890 - recall_2: 0.7879\n"
     ]
    },
    {
     "data": {
      "text/plain": [
       "[0.5734701454639435, 0.78902954, 0.7878788]"
      ]
     },
     "execution_count": 32,
     "metadata": {},
     "output_type": "execute_result"
    }
   ],
   "source": [
    "model.evaluate(realset)"
   ]
  },
  {
   "cell_type": "code",
   "execution_count": 34,
   "metadata": {},
   "outputs": [
    {
     "data": {
      "text/plain": [
       "array([[  6,   0],\n",
       "       [231,   0]], dtype=int64)"
      ]
     },
     "execution_count": 34,
     "metadata": {},
     "output_type": "execute_result"
    }
   ],
   "source": [
    "import sklearn\n",
    "probs = model.predict(realset)\n",
    "sklearn.metrics.confusion_matrix(real_y.values, np.argmax(probs,axis=1))"
   ]
  },
  {
   "cell_type": "code",
   "execution_count": null,
   "metadata": {},
   "outputs": [],
   "source": []
  }
 ],
 "metadata": {
  "kernelspec": {
   "display_name": "Python 3",
   "language": "python",
   "name": "python3"
  },
  "language_info": {
   "codemirror_mode": {
    "name": "ipython",
    "version": 3
   },
   "file_extension": ".py",
   "mimetype": "text/x-python",
   "name": "python",
   "nbconvert_exporter": "python",
   "pygments_lexer": "ipython3",
   "version": "3.7.0"
  }
 },
 "nbformat": 4,
 "nbformat_minor": 2
}
