{
 "cells": [
  {
   "cell_type": "code",
   "execution_count": 1,
   "metadata": {},
   "outputs": [
    {
     "data": {
      "text/html": [
       "<div>\n",
       "<style scoped>\n",
       "    .dataframe tbody tr th:only-of-type {\n",
       "        vertical-align: middle;\n",
       "    }\n",
       "\n",
       "    .dataframe tbody tr th {\n",
       "        vertical-align: top;\n",
       "    }\n",
       "\n",
       "    .dataframe thead th {\n",
       "        text-align: right;\n",
       "    }\n",
       "</style>\n",
       "<table border=\"1\" class=\"dataframe\">\n",
       "  <thead>\n",
       "    <tr style=\"text-align: right;\">\n",
       "      <th></th>\n",
       "      <th>domain</th>\n",
       "      <th>domain_type</th>\n",
       "    </tr>\n",
       "  </thead>\n",
       "  <tbody>\n",
       "    <tr>\n",
       "      <th>0</th>\n",
       "      <td>wisuolycossttqrj.com</td>\n",
       "      <td>dga</td>\n",
       "    </tr>\n",
       "    <tr>\n",
       "      <th>1</th>\n",
       "      <td>wi-wamss.org</td>\n",
       "      <td>benign</td>\n",
       "    </tr>\n",
       "    <tr>\n",
       "      <th>2</th>\n",
       "      <td>qcxfurnkbqidxxcl.biz</td>\n",
       "      <td>dga</td>\n",
       "    </tr>\n",
       "    <tr>\n",
       "      <th>3</th>\n",
       "      <td>192-168-1-1-admin.ru</td>\n",
       "      <td>benign</td>\n",
       "    </tr>\n",
       "    <tr>\n",
       "      <th>4</th>\n",
       "      <td>dblsiobnkjxomkmh.ru</td>\n",
       "      <td>dga</td>\n",
       "    </tr>\n",
       "  </tbody>\n",
       "</table>\n",
       "</div>"
      ],
      "text/plain": [
       "                 domain domain_type\n",
       "0  wisuolycossttqrj.com         dga\n",
       "1          wi-wamss.org      benign\n",
       "2  qcxfurnkbqidxxcl.biz         dga\n",
       "3  192-168-1-1-admin.ru      benign\n",
       "4   dblsiobnkjxomkmh.ru         dga"
      ]
     },
     "execution_count": 1,
     "metadata": {},
     "output_type": "execute_result"
    }
   ],
   "source": [
    "import pandas as pd\n",
    "import numpy as np\n",
    "domain_df = pd.read_csv(\"../../data/initial_data.csv\")\n",
    "expanded_df = pd.read_csv(\"../../data/new_dateset.csv\")\n",
    "df = pd.concat([domain_df,expanded_df])\n",
    "df.drop_duplicates(inplace=True)\n",
    "df.head()"
   ]
  },
  {
   "cell_type": "code",
   "execution_count": 2,
   "metadata": {},
   "outputs": [],
   "source": [
    "df['domain_type'] = pd.Categorical(df['domain_type'])"
   ]
  },
  {
   "cell_type": "code",
   "execution_count": 3,
   "metadata": {},
   "outputs": [
    {
     "data": {
      "text/html": [
       "<div>\n",
       "<style scoped>\n",
       "    .dataframe tbody tr th:only-of-type {\n",
       "        vertical-align: middle;\n",
       "    }\n",
       "\n",
       "    .dataframe tbody tr th {\n",
       "        vertical-align: top;\n",
       "    }\n",
       "\n",
       "    .dataframe thead th {\n",
       "        text-align: right;\n",
       "    }\n",
       "</style>\n",
       "<table border=\"1\" class=\"dataframe\">\n",
       "  <thead>\n",
       "    <tr style=\"text-align: right;\">\n",
       "      <th></th>\n",
       "      <th>domain</th>\n",
       "      <th>domain_type</th>\n",
       "    </tr>\n",
       "  </thead>\n",
       "  <tbody>\n",
       "    <tr>\n",
       "      <th>0</th>\n",
       "      <td>wisuolycossttqrj.com</td>\n",
       "      <td>1</td>\n",
       "    </tr>\n",
       "    <tr>\n",
       "      <th>1</th>\n",
       "      <td>wi-wamss.org</td>\n",
       "      <td>0</td>\n",
       "    </tr>\n",
       "    <tr>\n",
       "      <th>2</th>\n",
       "      <td>qcxfurnkbqidxxcl.biz</td>\n",
       "      <td>1</td>\n",
       "    </tr>\n",
       "    <tr>\n",
       "      <th>3</th>\n",
       "      <td>192-168-1-1-admin.ru</td>\n",
       "      <td>0</td>\n",
       "    </tr>\n",
       "    <tr>\n",
       "      <th>4</th>\n",
       "      <td>dblsiobnkjxomkmh.ru</td>\n",
       "      <td>1</td>\n",
       "    </tr>\n",
       "  </tbody>\n",
       "</table>\n",
       "</div>"
      ],
      "text/plain": [
       "                 domain  domain_type\n",
       "0  wisuolycossttqrj.com            1\n",
       "1          wi-wamss.org            0\n",
       "2  qcxfurnkbqidxxcl.biz            1\n",
       "3  192-168-1-1-admin.ru            0\n",
       "4   dblsiobnkjxomkmh.ru            1"
      ]
     },
     "execution_count": 3,
     "metadata": {},
     "output_type": "execute_result"
    }
   ],
   "source": [
    "df['domain_type'] = df.domain_type.cat.codes\n",
    "df.head()"
   ]
  },
  {
   "cell_type": "code",
   "execution_count": 4,
   "metadata": {},
   "outputs": [
    {
     "data": {
      "text/html": [
       "<div>\n",
       "<style scoped>\n",
       "    .dataframe tbody tr th:only-of-type {\n",
       "        vertical-align: middle;\n",
       "    }\n",
       "\n",
       "    .dataframe tbody tr th {\n",
       "        vertical-align: top;\n",
       "    }\n",
       "\n",
       "    .dataframe thead th {\n",
       "        text-align: right;\n",
       "    }\n",
       "</style>\n",
       "<table border=\"1\" class=\"dataframe\">\n",
       "  <thead>\n",
       "    <tr style=\"text-align: right;\">\n",
       "      <th></th>\n",
       "      <th>domain</th>\n",
       "      <th>domain_type</th>\n",
       "    </tr>\n",
       "  </thead>\n",
       "  <tbody>\n",
       "    <tr>\n",
       "      <th>0</th>\n",
       "      <td>wisuolycossttqrj</td>\n",
       "      <td>1</td>\n",
       "    </tr>\n",
       "    <tr>\n",
       "      <th>1</th>\n",
       "      <td>wi-wamss</td>\n",
       "      <td>0</td>\n",
       "    </tr>\n",
       "    <tr>\n",
       "      <th>2</th>\n",
       "      <td>qcxfurnkbqidxxcl</td>\n",
       "      <td>1</td>\n",
       "    </tr>\n",
       "    <tr>\n",
       "      <th>3</th>\n",
       "      <td>192-168-1-1-admin</td>\n",
       "      <td>0</td>\n",
       "    </tr>\n",
       "    <tr>\n",
       "      <th>4</th>\n",
       "      <td>dblsiobnkjxomkmh</td>\n",
       "      <td>1</td>\n",
       "    </tr>\n",
       "  </tbody>\n",
       "</table>\n",
       "</div>"
      ],
      "text/plain": [
       "              domain  domain_type\n",
       "0   wisuolycossttqrj            1\n",
       "1           wi-wamss            0\n",
       "2   qcxfurnkbqidxxcl            1\n",
       "3  192-168-1-1-admin            0\n",
       "4   dblsiobnkjxomkmh            1"
      ]
     },
     "execution_count": 4,
     "metadata": {},
     "output_type": "execute_result"
    }
   ],
   "source": [
    "import tldextract\n",
    "def transform(val):\n",
    "    return tldextract.extract(val).domain\n",
    "df['domain']= df['domain'].apply(transform)\n",
    "df.head()"
   ]
  },
  {
   "cell_type": "code",
   "execution_count": 5,
   "metadata": {},
   "outputs": [],
   "source": [
    "target = df.pop('domain_type')\n",
    "dataset = df['domain']"
   ]
  },
  {
   "cell_type": "code",
   "execution_count": 6,
   "metadata": {},
   "outputs": [],
   "source": [
    "from tensorflow.keras.preprocessing import sequence\n",
    "# valid_chars = {x:idx+1 for idx, x in enumerate(set(''.join(dataset)))}\n",
    "# max_features = len(valid_chars) + 1\n",
    "# maxlen = np.max([len(x) for x in dataset])\n",
    "valid_chars = {'y': 1, 'g': 2, '9': 3, '6': 4, '-': 5, '5': 6, 'r': 7, 'l': 8, 'v': 9, 'i': 10, 'p': 11, 'f': 12, '4': 13, '1': 14, 'n': 15, '2': 16,\n",
    " 's': 17, 'm': 18, 'j': 19, 't': 20, 'z': 21, 'o': 22, 'q': 23, 'a': 24, 'u': 25, '3': 26, '8': 27, 'c': 28, 'b': 29, 'w': 30, 'd': 31, 'e': 32,\n",
    " '0': 33, 'x': 34, 'h': 35, '7': 36, 'k': 37}\n",
    "maxlen = 50\n",
    "\n",
    "# Convert characters to int and pad\n",
    "X = [[valid_chars[y] for y in x] for x in dataset]\n",
    "X = sequence.pad_sequences(X, maxlen=maxlen)\n",
    "y = target"
   ]
  },
  {
   "cell_type": "code",
   "execution_count": 15,
   "metadata": {},
   "outputs": [
    {
     "data": {
      "text/plain": [
       "{'y': 1,\n",
       " 'g': 2,\n",
       " '9': 3,\n",
       " '6': 4,\n",
       " '-': 5,\n",
       " '5': 6,\n",
       " 'r': 7,\n",
       " 'l': 8,\n",
       " 'v': 9,\n",
       " 'i': 10,\n",
       " 'p': 11,\n",
       " 'f': 12,\n",
       " '4': 13,\n",
       " '1': 14,\n",
       " 'n': 15,\n",
       " '2': 16,\n",
       " 's': 17,\n",
       " 'm': 18,\n",
       " 'j': 19,\n",
       " 't': 20,\n",
       " 'z': 21,\n",
       " 'o': 22,\n",
       " 'q': 23,\n",
       " 'a': 24,\n",
       " 'u': 25,\n",
       " '3': 26,\n",
       " '8': 27,\n",
       " 'c': 28,\n",
       " 'b': 29,\n",
       " 'w': 30,\n",
       " 'd': 31,\n",
       " 'e': 32,\n",
       " '0': 33,\n",
       " 'x': 34,\n",
       " 'h': 35,\n",
       " '7': 36,\n",
       " 'k': 37}"
      ]
     },
     "execution_count": 15,
     "metadata": {},
     "output_type": "execute_result"
    }
   ],
   "source": [
    "valid_chars"
   ]
  },
  {
   "cell_type": "code",
   "execution_count": 7,
   "metadata": {},
   "outputs": [],
   "source": [
    "from sklearn.model_selection import train_test_split\n",
    "X_train, X_test, y_train, y_test = train_test_split(X, y, test_size=0.3, random_state=42)"
   ]
  },
  {
   "cell_type": "code",
   "execution_count": 8,
   "metadata": {},
   "outputs": [
    {
     "data": {
      "text/plain": [
       "(117985, 50)"
      ]
     },
     "execution_count": 8,
     "metadata": {},
     "output_type": "execute_result"
    }
   ],
   "source": [
    "X_train.shape"
   ]
  },
  {
   "cell_type": "code",
   "execution_count": 9,
   "metadata": {},
   "outputs": [],
   "source": [
    "import tensorflow as tf\n",
    "trainset = tf.data.Dataset.from_tensor_slices((X_train, y_train.values)).shuffle(len(X_train)).batch(128)"
   ]
  },
  {
   "cell_type": "code",
   "execution_count": 11,
   "metadata": {},
   "outputs": [
    {
     "name": "stdout",
     "output_type": "stream",
     "text": [
      "Train for 922 steps, validate for 396 steps\n",
      "Epoch 1/25\n",
      "922/922 [==============================] - 396s 430ms/step - loss: 0.2476 - accuracy: 0.8957 - recall: 0.8729 - val_loss: 0.1931 - val_accuracy: 0.9235 - val_recall: 0.9150\n",
      "Epoch 2/25\n",
      "922/922 [==============================] - 426s 462ms/step - loss: 0.1728 - accuracy: 0.9307 - recall: 0.9213 - val_loss: 0.1552 - val_accuracy: 0.9382 - val_recall: 0.9116\n",
      "Epoch 3/25\n",
      "922/922 [==============================] - 416s 452ms/step - loss: 0.1423 - accuracy: 0.9429 - recall: 0.9340 - val_loss: 0.1349 - val_accuracy: 0.9468 - val_recall: 0.9432\n",
      "Epoch 4/25\n",
      "922/922 [==============================] - 515s 558ms/step - loss: 0.1262 - accuracy: 0.9503 - recall: 0.9430 - val_loss: 0.1206 - val_accuracy: 0.9526 - val_recall: 0.9457\n",
      "Epoch 5/25\n",
      "922/922 [==============================] - 463s 502ms/step - loss: 0.1151 - accuracy: 0.9552 - recall: 0.9470 - val_loss: 0.1146 - val_accuracy: 0.9542 - val_recall: 0.9531\n",
      "Epoch 6/25\n",
      "922/922 [==============================] - 534s 579ms/step - loss: 0.1071 - accuracy: 0.9580 - recall: 0.9500 - val_loss: 0.1087 - val_accuracy: 0.9575 - val_recall: 0.9535\n",
      "Epoch 7/25\n",
      "922/922 [==============================] - 463s 502ms/step - loss: 0.1004 - accuracy: 0.9605 - recall: 0.9530 - val_loss: 0.1056 - val_accuracy: 0.9590 - val_recall: 0.9538\n",
      "Epoch 8/25\n",
      "922/922 [==============================] - 473s 513ms/step - loss: 0.0954 - accuracy: 0.9626 - recall: 0.9552 - val_loss: 0.1022 - val_accuracy: 0.9603 - val_recall: 0.9570\n",
      "Epoch 9/25\n",
      "922/922 [==============================] - 447s 485ms/step - loss: 0.0903 - accuracy: 0.9648 - recall: 0.9583 - val_loss: 0.1002 - val_accuracy: 0.9611 - val_recall: 0.9598\n",
      "Epoch 10/25\n",
      "922/922 [==============================] - 421s 456ms/step - loss: 0.0858 - accuracy: 0.9664 - recall: 0.9604 - val_loss: 0.0981 - val_accuracy: 0.9623 - val_recall: 0.9536\n",
      "Epoch 11/25\n",
      "922/922 [==============================] - 522s 566ms/step - loss: 0.0822 - accuracy: 0.9678 - recall: 0.9625 - val_loss: 0.0970 - val_accuracy: 0.9624 - val_recall: 0.9599\n",
      "Epoch 12/25\n",
      "922/922 [==============================] - 517s 560ms/step - loss: 0.0782 - accuracy: 0.9692 - recall: 0.9638 - val_loss: 0.0977 - val_accuracy: 0.9625 - val_recall: 0.9621\n"
     ]
    },
    {
     "data": {
      "text/plain": [
       "<tensorflow.python.keras.callbacks.History at 0x62120997b8>"
      ]
     },
     "execution_count": 11,
     "metadata": {},
     "output_type": "execute_result"
    }
   ],
   "source": [
    "def get_compiled_model():\n",
    "    main_input = tf.keras.Input(shape=(50, ), dtype='int32', name='main_input')\n",
    "    embedding = tf.keras.layers.Embedding(input_dim=128, output_dim=128,input_length=50)(main_input)\n",
    "    bi_lstm = tf.keras.layers.Bidirectional(layer=tf.keras.layers.LSTM(64,return_sequences=False),merge_mode='concat')(embedding)\n",
    "    output = tf.keras.layers.Dense(1, activation='sigmoid')(bi_lstm)\n",
    "    model = tf.keras.Model(inputs=main_input, outputs=output)\n",
    "    model.compile(loss='binary_crossentropy', optimizer='adam', metrics=['accuracy', tf.keras.metrics.Recall()])\n",
    "    return model\n",
    "\n",
    "earlystop_callback = tf.keras.callbacks.EarlyStopping(monitor='val_accuracy', min_delta=0.0001, patience=1)\n",
    "# callback_parameter = callbacks=[earlystop_callback], validation_data=testset, validation_freq=1\n",
    "model = get_compiled_model()\n",
    "model.fit(trainset, epochs=25, callbacks=[earlystop_callback], validation_data=testset, validation_freq=1)"
   ]
  },
  {
   "cell_type": "code",
   "execution_count": 20,
   "metadata": {},
   "outputs": [
    {
     "name": "stdout",
     "output_type": "stream",
     "text": [
      "INFO:tensorflow:Assets written to: tf_model__\\assets\n"
     ]
    }
   ],
   "source": [
    "model.save('tf_model__')"
   ]
  },
  {
   "cell_type": "code",
   "execution_count": 20,
   "metadata": {},
   "outputs": [
    {
     "name": "stdout",
     "output_type": "stream",
     "text": [
      "tf_model_/\n",
      "tf_model_/1/\n",
      "tf_model_/1/assets/\n",
      "tf_model_/1/saved_model.pb\n",
      "tf_model_/1/variables/\n",
      "tf_model_/1/variables/variables.data-00000-of-00001\n",
      "tf_model_/1/variables/variables.index\n"
     ]
    }
   ],
   "source": [
    "!tar czvf model_.tar.gz tf_model__"
   ]
  },
  {
   "cell_type": "code",
   "execution_count": 10,
   "metadata": {},
   "outputs": [],
   "source": [
    "testset = tf.data.Dataset.from_tensor_slices((X_test, y_test.values)).batch(128)"
   ]
  },
  {
   "cell_type": "code",
   "execution_count": 32,
   "metadata": {},
   "outputs": [
    {
     "name": "stdout",
     "output_type": "stream",
     "text": [
      "396/396 [==============================] - 30s 77ms/step - loss: 0.1225 - accuracy: 0.9623 - recall_1: 0.9618\n"
     ]
    },
    {
     "data": {
      "text/plain": [
       "[0.12247108168252674, 0.9622869, 0.96183026]"
      ]
     },
     "execution_count": 32,
     "metadata": {},
     "output_type": "execute_result"
    }
   ],
   "source": [
    "model.evaluate(testset)"
   ]
  },
  {
   "cell_type": "code",
   "execution_count": 12,
   "metadata": {},
   "outputs": [],
   "source": [
    "import pandas as pd\n",
    "import numpy as np\n",
    "test_df = pd.read_csv(\"../../data/feedback.csv\")"
   ]
  },
  {
   "cell_type": "code",
   "execution_count": 13,
   "metadata": {},
   "outputs": [
    {
     "data": {
      "text/plain": [
       "Index(['domain', ' submitted', ' correct'], dtype='object')"
      ]
     },
     "execution_count": 13,
     "metadata": {},
     "output_type": "execute_result"
    }
   ],
   "source": [
    "test_df.columns"
   ]
  },
  {
   "cell_type": "code",
   "execution_count": 14,
   "metadata": {},
   "outputs": [
    {
     "data": {
      "text/html": [
       "<div>\n",
       "<style scoped>\n",
       "    .dataframe tbody tr th:only-of-type {\n",
       "        vertical-align: middle;\n",
       "    }\n",
       "\n",
       "    .dataframe tbody tr th {\n",
       "        vertical-align: top;\n",
       "    }\n",
       "\n",
       "    .dataframe thead th {\n",
       "        text-align: right;\n",
       "    }\n",
       "</style>\n",
       "<table border=\"1\" class=\"dataframe\">\n",
       "  <thead>\n",
       "    <tr style=\"text-align: right;\">\n",
       "      <th></th>\n",
       "      <th>domain</th>\n",
       "      <th>submitted</th>\n",
       "      <th>correct</th>\n",
       "    </tr>\n",
       "  </thead>\n",
       "  <tbody>\n",
       "    <tr>\n",
       "      <th>0</th>\n",
       "      <td>cfsjdqwdhmwkiv</td>\n",
       "      <td>benign</td>\n",
       "      <td>1</td>\n",
       "    </tr>\n",
       "    <tr>\n",
       "      <th>1</th>\n",
       "      <td>uocoqgiusyeciouaimcauykqswsymo</td>\n",
       "      <td>benign</td>\n",
       "      <td>1</td>\n",
       "    </tr>\n",
       "    <tr>\n",
       "      <th>2</th>\n",
       "      <td>okdbnxoauhzrawyu</td>\n",
       "      <td>benign</td>\n",
       "      <td>1</td>\n",
       "    </tr>\n",
       "    <tr>\n",
       "      <th>3</th>\n",
       "      <td>m8sdetc0u81lgdcpshoxsvy</td>\n",
       "      <td>benign</td>\n",
       "      <td>1</td>\n",
       "    </tr>\n",
       "    <tr>\n",
       "      <th>4</th>\n",
       "      <td>qkdccn</td>\n",
       "      <td>benign</td>\n",
       "      <td>1</td>\n",
       "    </tr>\n",
       "  </tbody>\n",
       "</table>\n",
       "</div>"
      ],
      "text/plain": [
       "                           domain  submitted   correct\n",
       "0                  cfsjdqwdhmwkiv     benign         1\n",
       "1  uocoqgiusyeciouaimcauykqswsymo     benign         1\n",
       "2                okdbnxoauhzrawyu     benign         1\n",
       "3         m8sdetc0u81lgdcpshoxsvy     benign         1\n",
       "4                          qkdccn     benign         1"
      ]
     },
     "execution_count": 14,
     "metadata": {},
     "output_type": "execute_result"
    }
   ],
   "source": [
    "test_df[' correct'] = pd.Categorical(test_df[' correct'])\n",
    "test_df[' correct'] = test_df[' correct'].cat.codes\n",
    "test_df.head()"
   ]
  },
  {
   "cell_type": "code",
   "execution_count": 15,
   "metadata": {},
   "outputs": [],
   "source": [
    "real_target = test_df.pop(' correct')\n",
    "real_dataset = test_df['domain']"
   ]
  },
  {
   "cell_type": "code",
   "execution_count": 16,
   "metadata": {},
   "outputs": [],
   "source": [
    "real_X = [[valid_chars[y] for y in x] for x in real_dataset]\n",
    "real_X = sequence.pad_sequences(real_X, maxlen=maxlen)\n",
    "real_y = real_target"
   ]
  },
  {
   "cell_type": "code",
   "execution_count": 17,
   "metadata": {},
   "outputs": [],
   "source": [
    "realset = tf.data.Dataset.from_tensor_slices((real_X, real_y.values)).batch(128)"
   ]
  },
  {
   "cell_type": "code",
   "execution_count": 18,
   "metadata": {},
   "outputs": [
    {
     "name": "stdout",
     "output_type": "stream",
     "text": [
      "2/2 [==============================] - 0s 147ms/step - loss: 0.5535 - accuracy: 0.8397 - recall: 0.8355\n"
     ]
    },
    {
     "data": {
      "text/plain": [
       "[0.5535051822662354, 0.83966243, 0.83549786]"
      ]
     },
     "execution_count": 18,
     "metadata": {},
     "output_type": "execute_result"
    }
   ],
   "source": [
    "model.evaluate(realset)"
   ]
  },
  {
   "cell_type": "code",
   "execution_count": 34,
   "metadata": {},
   "outputs": [
    {
     "data": {
      "text/plain": [
       "array([[  6,   0],\n",
       "       [231,   0]], dtype=int64)"
      ]
     },
     "execution_count": 34,
     "metadata": {},
     "output_type": "execute_result"
    }
   ],
   "source": [
    "import sklearn\n",
    "probs = model.predict(realset)\n",
    "sklearn.metrics.confusion_matrix(real_y.values, np.argmax(probs,axis=1))"
   ]
  },
  {
   "cell_type": "code",
   "execution_count": null,
   "metadata": {},
   "outputs": [],
   "source": []
  }
 ],
 "metadata": {
  "kernelspec": {
   "display_name": "Python 3",
   "language": "python",
   "name": "python3"
  },
  "language_info": {
   "codemirror_mode": {
    "name": "ipython",
    "version": 3
   },
   "file_extension": ".py",
   "mimetype": "text/x-python",
   "name": "python",
   "nbconvert_exporter": "python",
   "pygments_lexer": "ipython3",
   "version": "3.7.0"
  }
 },
 "nbformat": 4,
 "nbformat_minor": 2
}
